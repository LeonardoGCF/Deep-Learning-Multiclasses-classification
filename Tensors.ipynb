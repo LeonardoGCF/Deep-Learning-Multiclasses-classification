{
 "cells": [
  {
   "cell_type": "code",
   "execution_count": 1,
   "metadata": {},
   "outputs": [],
   "source": [
    "from IPython.core.interactiveshell import InteractiveShell\n",
    "InteractiveShell.ast_node_interactivity = \"all\""
   ]
  },
  {
   "cell_type": "code",
   "execution_count": 2,
   "metadata": {},
   "outputs": [
    {
     "data": {
      "text/plain": [
       "'2.0.0'"
      ]
     },
     "execution_count": 2,
     "metadata": {},
     "output_type": "execute_result"
    },
    {
     "data": {
      "text/plain": [
       "'2.2.4-tf'"
      ]
     },
     "execution_count": 2,
     "metadata": {},
     "output_type": "execute_result"
    }
   ],
   "source": [
    "import tensorflow as tf\n",
    "import numpy as np\n",
    "\n",
    "tf.__version__\n",
    "tf.keras.__version__"
   ]
  },
  {
   "cell_type": "markdown",
   "metadata": {},
   "source": [
    "# Tensors\n",
    "## NumPy"
   ]
  },
  {
   "cell_type": "code",
   "execution_count": 3,
   "metadata": {},
   "outputs": [
    {
     "data": {
      "text/plain": [
       "array([[1, 2, 3],\n",
       "       [4, 5, 6],\n",
       "       [7, 8, 9]], dtype=int32)"
      ]
     },
     "execution_count": 3,
     "metadata": {},
     "output_type": "execute_result"
    },
    {
     "data": {
      "text/plain": [
       "array([[0, 0, 0, 0],\n",
       "       [0, 0, 0, 0],\n",
       "       [0, 0, 0, 0],\n",
       "       [0, 0, 0, 0]], dtype=int32)"
      ]
     },
     "execution_count": 3,
     "metadata": {},
     "output_type": "execute_result"
    },
    {
     "data": {
      "text/plain": [
       "array([[0, 0, 0, 0],\n",
       "       [0, 0, 0, 0],\n",
       "       [0, 0, 0, 0],\n",
       "       [0, 0, 0, 0]], dtype=int32)"
      ]
     },
     "execution_count": 3,
     "metadata": {},
     "output_type": "execute_result"
    },
    {
     "data": {
      "text/plain": [
       "array([[0, 0, 0],\n",
       "       [0, 0, 0],\n",
       "       [0, 0, 0]], dtype=int32)"
      ]
     },
     "execution_count": 3,
     "metadata": {},
     "output_type": "execute_result"
    },
    {
     "data": {
      "text/plain": [
       "array([0, 2, 4, 6, 8])"
      ]
     },
     "execution_count": 3,
     "metadata": {},
     "output_type": "execute_result"
    },
    {
     "data": {
      "text/plain": [
       "array([4, 7, 3])"
      ]
     },
     "execution_count": 3,
     "metadata": {},
     "output_type": "execute_result"
    },
    {
     "data": {
      "text/plain": [
       "array([[0.36637593, 0.36399332, 0.4056505 ],\n",
       "       [0.78587641, 0.53621304, 0.7511104 ],\n",
       "       [0.57900098, 0.47443794, 0.37417134]])"
      ]
     },
     "execution_count": 3,
     "metadata": {},
     "output_type": "execute_result"
    },
    {
     "data": {
      "text/plain": [
       "array([[-0.47053982, -1.26764234, -0.28235899],\n",
       "       [-0.66976752, -1.05179899,  0.55977747],\n",
       "       [-1.26122886,  0.78345457,  1.04482081]])"
      ]
     },
     "execution_count": 3,
     "metadata": {},
     "output_type": "execute_result"
    }
   ],
   "source": [
    "# Create a tensor\n",
    "# ---------------\n",
    "\n",
    "matrix = [[1, 2, 3], [4, 5, 6], [7, 8, 9]]\n",
    "\n",
    "# np.array(object, dtype)\n",
    "array2d = np.array(matrix, dtype=np.int32)\n",
    "array2d\n",
    "\n",
    "# other alternatives:\n",
    "# np.zeros\n",
    "zeros = np.zeros(shape=[4, 4], dtype=np.int32)\n",
    "zeros\n",
    "\n",
    "# np.ones\n",
    "ones = np.ones(shape=[4, 4], dtype=np.int32)\n",
    "ones\n",
    "\n",
    "# np.zeros_like / np.ones_like\n",
    "zeros_like = np.zeros_like(array2d)\n",
    "zeros_like\n",
    "\n",
    "# np.arange\n",
    "range_array = np.arange(start=0, stop=10, step=2)\n",
    "range_array\n",
    "\n",
    "# random integers over [low, high)\n",
    "rnd_int = np.random.randint(low=0, high=10, size=3)\n",
    "rnd_int\n",
    "\n",
    "# sampling from distribution: np.random\n",
    "# uniform [0, 1)\n",
    "rnd_uniform = np.random.rand(3, 3)  # rand(d0, d1, ..., dN)\n",
    "rnd_uniform\n",
    "\n",
    "# normal with mean 0 and variance 1\n",
    "rnd_normal = np.random.randn(3, 3)  # randn(d0, d1, ..., dN)\n",
    "rnd_normal\n",
    "\n",
    "# many others (see documentation)\n",
    "?np.random"
   ]
  },
  {
   "cell_type": "code",
   "execution_count": 4,
   "metadata": {},
   "outputs": [
    {
     "name": "stdout",
     "output_type": "stream",
     "text": [
      "array.dtype: int32\n",
      "array.shape:  (3, 3)\n",
      "array.ndim: 2\n"
     ]
    }
   ],
   "source": [
    "# Attributes\n",
    "# ----------\n",
    "\n",
    "# dtype: type of the elements\n",
    "print('array.dtype: %s' % array2d.dtype)\n",
    "\n",
    "# shape: dimensions of the array\n",
    "print('array.shape: ', array2d.shape)\n",
    "\n",
    "# ndim: number of dimensions of the array (axis)\n",
    "print('array.ndim: {}'.format(array2d.ndim))\n"
   ]
  },
  {
   "cell_type": "markdown",
   "metadata": {},
   "source": [
    "## Tensorflow"
   ]
  },
  {
   "cell_type": "code",
   "execution_count": 5,
   "metadata": {},
   "outputs": [
    {
     "data": {
      "text/plain": [
       "<tf.Tensor: id=0, shape=(3, 3), dtype=int32, numpy=\n",
       "array([[1, 2, 3],\n",
       "       [4, 5, 6],\n",
       "       [7, 8, 9]], dtype=int32)>"
      ]
     },
     "execution_count": 5,
     "metadata": {},
     "output_type": "execute_result"
    },
    {
     "data": {
      "text/plain": [
       "<tf.Tensor: id=1, shape=(3, 3), dtype=float32, numpy=\n",
       "array([[1., 2., 3.],\n",
       "       [4., 5., 6.],\n",
       "       [7., 8., 9.]], dtype=float32)>"
      ]
     },
     "execution_count": 5,
     "metadata": {},
     "output_type": "execute_result"
    },
    {
     "data": {
      "text/plain": [
       "<tf.Tensor: id=4, shape=(4, 4), dtype=int32, numpy=\n",
       "array([[0, 0, 0, 0],\n",
       "       [0, 0, 0, 0],\n",
       "       [0, 0, 0, 0],\n",
       "       [0, 0, 0, 0]], dtype=int32)>"
      ]
     },
     "execution_count": 5,
     "metadata": {},
     "output_type": "execute_result"
    },
    {
     "data": {
      "text/plain": [
       "<tf.Tensor: id=7, shape=(4, 4), dtype=int32, numpy=\n",
       "array([[0, 0, 0, 0],\n",
       "       [0, 0, 0, 0],\n",
       "       [0, 0, 0, 0],\n",
       "       [0, 0, 0, 0]], dtype=int32)>"
      ]
     },
     "execution_count": 5,
     "metadata": {},
     "output_type": "execute_result"
    },
    {
     "data": {
      "text/plain": [
       "<tf.Tensor: id=9, shape=(3, 3), dtype=int32, numpy=\n",
       "array([[0, 0, 0],\n",
       "       [0, 0, 0],\n",
       "       [0, 0, 0]], dtype=int32)>"
      ]
     },
     "execution_count": 5,
     "metadata": {},
     "output_type": "execute_result"
    },
    {
     "data": {
      "text/plain": [
       "<tf.Tensor: id=13, shape=(5,), dtype=int32, numpy=array([0, 2, 4, 6, 8], dtype=int32)>"
      ]
     },
     "execution_count": 5,
     "metadata": {},
     "output_type": "execute_result"
    },
    {
     "data": {
      "text/plain": [
       "<tf.Tensor: id=20, shape=(5, 5), dtype=float32, numpy=\n",
       "array([[12.788467, 11.67362 , 16.652027, 17.446955, 14.670211],\n",
       "       [14.656504, 19.428402, 13.687845, 17.99348 , 10.057428],\n",
       "       [13.953756, 12.422646, 12.629203, 12.047576, 10.158725],\n",
       "       [14.72044 , 13.86488 , 12.821474, 12.095869, 18.287252],\n",
       "       [14.942159, 14.421274, 13.791051, 13.874189, 10.207634]],\n",
       "      dtype=float32)>"
      ]
     },
     "execution_count": 5,
     "metadata": {},
     "output_type": "execute_result"
    },
    {
     "data": {
      "text/plain": [
       "<tf.Tensor: id=21, shape=(2, 2), dtype=float32, numpy=\n",
       "array([[0.8777093 , 0.6526943 ],\n",
       "       [1.3856369 , 0.57750493]], dtype=float32)>"
      ]
     },
     "execution_count": 5,
     "metadata": {},
     "output_type": "execute_result"
    }
   ],
   "source": [
    "# Create a tensor\n",
    "# ---------------\n",
    "\n",
    "# tf.constant(object, dtype)\n",
    "tensor2d = tf.constant(matrix, dtype=tf.int32)\n",
    "tensor2d\n",
    "\n",
    "# tf.convert_to_tensor(object, dtype)\n",
    "tensor2d = tf.constant(array2d, dtype=tf.float32)\n",
    "tensor2d\n",
    "\n",
    "# other alternatives:\n",
    "# tf.zeros\n",
    "zeros = tf.zeros(shape=[4, 4], dtype=tf.int32)\n",
    "zeros\n",
    "\n",
    "# tf.ones\n",
    "ones = tf.ones(shape=[4, 4], dtype=tf.int32)\n",
    "ones\n",
    "\n",
    "# tf.zeros_like / tf.ones_like\n",
    "zeros_like = tf.zeros_like(array2d)\n",
    "zeros_like\n",
    "\n",
    "# np.arange\n",
    "range_array = tf.range(start=0, limit=10, delta=2)\n",
    "range_array\n",
    "\n",
    "# tf.random.uniform\n",
    "rnd_uniform = tf.random.uniform(shape=[5, 5], minval=10, maxval=20)\n",
    "rnd_uniform\n",
    "\n",
    "# ?tf.random\n",
    "\n",
    "# remember you can use convert_to_tensor()\n",
    "# e.g.\n",
    "rnd_rayleigh = tf.convert_to_tensor(\n",
    "    np.random.rayleigh(size=[2, 2]), dtype=tf.float32)\n",
    "rnd_rayleigh\n"
   ]
  },
  {
   "cell_type": "code",
   "execution_count": 6,
   "metadata": {},
   "outputs": [
    {
     "name": "stdout",
     "output_type": "stream",
     "text": [
      "tensor2d.dtype: <dtype: 'float32'>\n",
      "tensor2d.shape:  (3, 3)\n",
      "tensor2d.ndim: 2\n",
      "tensor2d.device: /job:localhost/replica:0/task:0/device:CPU:0\n"
     ]
    }
   ],
   "source": [
    "# Attributes\n",
    "# ----------\n",
    "\n",
    "# dtype: type of the elements\n",
    "print('tensor2d.dtype: %s' % tensor2d.dtype)\n",
    "\n",
    "# shape: dimensions of the array\n",
    "print('tensor2d.shape: ', tensor2d.shape)\n",
    "\n",
    "# ndim: number of dimensions of the array (axis)\n",
    "print('tensor2d.ndim: {}'.format(tensor2d.ndim))\n",
    "\n",
    "# device: device placement for tensor\n",
    "print('tensor2d.device: {}'.format(tensor2d.device))"
   ]
  },
  {
   "cell_type": "markdown",
   "metadata": {},
   "source": [
    "## Operations on tensors"
   ]
  },
  {
   "cell_type": "code",
   "execution_count": 7,
   "metadata": {},
   "outputs": [
    {
     "data": {
      "text/plain": [
       "tf.float32"
      ]
     },
     "execution_count": 7,
     "metadata": {},
     "output_type": "execute_result"
    },
    {
     "data": {
      "text/plain": [
       "tf.int32"
      ]
     },
     "execution_count": 7,
     "metadata": {},
     "output_type": "execute_result"
    }
   ],
   "source": [
    "# Cast: tf.cast(x, dtype)改data type\n",
    "# -----------------------\n",
    "\n",
    "tensor2d.dtype\n",
    "tensor2d = tf.cast(tensor2d, dtype=tf.int32)\n",
    "tensor2d.dtype\n",
    "\n",
    "# ?tf.DType\n",
    "# -----------------------"
   ]
  },
  {
   "cell_type": "code",
   "execution_count": 8,
   "metadata": {},
   "outputs": [
    {
     "data": {
      "text/plain": [
       "<tf.Tensor: id=26, shape=(9,), dtype=int32, numpy=array([0, 1, 2, 3, 4, 5, 6, 7, 8], dtype=int32)>"
      ]
     },
     "execution_count": 8,
     "metadata": {},
     "output_type": "execute_result"
    },
    {
     "data": {
      "text/plain": [
       "<tf.Tensor: id=28, shape=(3, 3), dtype=int32, numpy=\n",
       "array([[0, 1, 2],\n",
       "       [3, 4, 5],\n",
       "       [6, 7, 8]], dtype=int32)>"
      ]
     },
     "execution_count": 8,
     "metadata": {},
     "output_type": "execute_result"
    },
    {
     "data": {
      "text/plain": [
       "<tf.Tensor: id=30, shape=(9,), dtype=int32, numpy=array([0, 1, 2, 3, 4, 5, 6, 7, 8], dtype=int32)>"
      ]
     },
     "execution_count": 8,
     "metadata": {},
     "output_type": "execute_result"
    },
    {
     "data": {
      "text/plain": [
       "<tf.Tensor: id=36, shape=(2, 2), dtype=int32, numpy=\n",
       "array([[1, 2],\n",
       "       [3, 4]], dtype=int32)>"
      ]
     },
     "execution_count": 8,
     "metadata": {},
     "output_type": "execute_result"
    },
    {
     "data": {
      "text/plain": [
       "<tf.Tensor: id=38, shape=(2, 2, 1), dtype=int32, numpy=\n",
       "array([[[1],\n",
       "        [2]],\n",
       "\n",
       "       [[3],\n",
       "        [4]]], dtype=int32)>"
      ]
     },
     "execution_count": 8,
     "metadata": {},
     "output_type": "execute_result"
    },
    {
     "data": {
      "text/plain": [
       "<tf.Tensor: id=39, shape=(2, 2), dtype=int32, numpy=\n",
       "array([[1, 2],\n",
       "       [3, 4]], dtype=int32)>"
      ]
     },
     "execution_count": 8,
     "metadata": {},
     "output_type": "execute_result"
    }
   ],
   "source": [
    "# Reshape: \n",
    "# --------\n",
    "\n",
    "# tf.reshape(tensor, shape)\n",
    "tensor1d = tf.range(9)\n",
    "tensor1d\n",
    "\n",
    "tensor2d = tf.reshape(tensor1d, shape=[3, 3])\n",
    "# tensor2d = tf.reshape(tensor1d, shape=[3, -1]) # negative dimension is accepted\n",
    "tensor2d\n",
    "\n",
    "flattened = tf.reshape(tensor2d, shape=[-1])# -1 ==全部 end\n",
    "flattened\n",
    "\n",
    "# tf.expand_dims(input, axis)扩展 end 位\n",
    "tensor2d = tf.reshape(tf.range(1, 5), shape=[2, 2])\n",
    "tensor2d\n",
    "tensor3d = tf.expand_dims(tensor2d, axis=-1)\n",
    "# tensor3d = tf.reshape(tensor2d, shape=[2, 2, 1])\n",
    "tensor3d\n",
    "\n",
    "# tf.squeeze(input, axis)\n",
    "tensor2d = tf.squeeze(tensor3d, axis=-1)\n",
    "# tensor2d = tf.reshape(tensor3d, shape=[2, 2])\n",
    "tensor2d\n",
    "# --------"
   ]
  },
  {
   "cell_type": "code",
   "execution_count": 10,
   "metadata": {},
   "outputs": [
    {
     "data": {
      "text/plain": [
       "<tf.Tensor: id=67, shape=(3, 3), dtype=float32, numpy=\n",
       "array([[1., 0., 0.],\n",
       "       [0., 1., 0.],\n",
       "       [0., 0., 1.]], dtype=float32)>"
      ]
     },
     "execution_count": 10,
     "metadata": {},
     "output_type": "execute_result"
    },
    {
     "data": {
      "text/plain": [
       "<tf.Tensor: id=68, shape=(3, 3), dtype=float32, numpy=\n",
       "array([[ 2.,  2.,  3.],\n",
       "       [ 4.,  6.,  6.],\n",
       "       [ 7.,  8., 10.]], dtype=float32)>"
      ]
     },
     "execution_count": 10,
     "metadata": {},
     "output_type": "execute_result"
    },
    {
     "data": {
      "text/plain": [
       "<tf.Tensor: id=69, shape=(3, 3), dtype=float32, numpy=\n",
       "array([[0., 2., 3.],\n",
       "       [4., 4., 6.],\n",
       "       [7., 8., 8.]], dtype=float32)>"
      ]
     },
     "execution_count": 10,
     "metadata": {},
     "output_type": "execute_result"
    },
    {
     "data": {
      "text/plain": [
       "<tf.Tensor: id=70, shape=(3, 3), dtype=float32, numpy=\n",
       "array([[1., 0., 0.],\n",
       "       [0., 5., 0.],\n",
       "       [0., 0., 9.]], dtype=float32)>"
      ]
     },
     "execution_count": 10,
     "metadata": {},
     "output_type": "execute_result"
    },
    {
     "data": {
      "text/plain": [
       "<tf.Tensor: id=73, shape=(3, 3), dtype=float32, numpy=\n",
       "array([[0.5, 2. , 3. ],\n",
       "       [4. , 2.5, 6. ],\n",
       "       [7. , 8. , 4.5]], dtype=float32)>"
      ]
     },
     "execution_count": 10,
     "metadata": {},
     "output_type": "execute_result"
    },
    {
     "data": {
      "text/plain": [
       "<tf.Tensor: id=85, shape=(2, 2), dtype=int32, numpy=\n",
       "array([[ 7, 10],\n",
       "       [15, 22]], dtype=int32)>"
      ]
     },
     "execution_count": 10,
     "metadata": {},
     "output_type": "execute_result"
    }
   ],
   "source": [
    "# Math:\n",
    "# -----\n",
    "\n",
    "# +, -, *, / operators (element-wise)\n",
    "t1 = tf.constant([[1, 2, 3], [4, 5, 6], [7, 8, 9]], dtype=tf.float32)\n",
    "t2 = tf.eye(num_rows=3, num_columns=3)\n",
    "t2\n",
    "t1+t2 \n",
    "# tf.add(t1, t2)\n",
    "t1-t2 \n",
    "# tf.subtract(t1, t2)\n",
    "t1*t2 \n",
    "# tf.multiply(t1, t2)\n",
    "t1/(t2+1)\n",
    "# tf.divide(t1, tf.add(t2, 1))\n",
    "\n",
    "# tf.tensordot(a, b, axes)\n",
    "t = tf.constant([[1, 2], [3, 4]], dtype=tf.int32)\n",
    "tf.tensordot(t, t, axes=[[1], [0]]) # matrix multiplication\n",
    "\n",
    "# -----"
   ]
  },
  {
   "cell_type": "code",
   "execution_count": 11,
   "metadata": {},
   "outputs": [
    {
     "data": {
      "text/plain": [
       "<tf.Tensor: id=86, shape=(3, 3), dtype=float32, numpy=\n",
       "array([[1., 2., 3.],\n",
       "       [4., 5., 6.],\n",
       "       [7., 8., 9.]], dtype=float32)>"
      ]
     },
     "execution_count": 11,
     "metadata": {},
     "output_type": "execute_result"
    },
    {
     "data": {
      "text/plain": [
       "<tf.Tensor: id=90, shape=(), dtype=float32, numpy=3.0>"
      ]
     },
     "execution_count": 11,
     "metadata": {},
     "output_type": "execute_result"
    },
    {
     "data": {
      "text/plain": [
       "<tf.Tensor: id=94, shape=(), dtype=float32, numpy=3.0>"
      ]
     },
     "execution_count": 11,
     "metadata": {},
     "output_type": "execute_result"
    },
    {
     "data": {
      "text/plain": [
       "<tf.Tensor: id=98, shape=(), dtype=float32, numpy=3.0>"
      ]
     },
     "execution_count": 11,
     "metadata": {},
     "output_type": "execute_result"
    },
    {
     "data": {
      "text/plain": [
       "<tf.Tensor: id=102, shape=(2, 2), dtype=float32, numpy=\n",
       "array([[5., 6.],\n",
       "       [8., 9.]], dtype=float32)>"
      ]
     },
     "execution_count": 11,
     "metadata": {},
     "output_type": "execute_result"
    },
    {
     "data": {
      "text/plain": [
       "<tf.Tensor: id=106, shape=(2, 2), dtype=float32, numpy=\n",
       "array([[5., 6.],\n",
       "       [8., 9.]], dtype=float32)>"
      ]
     },
     "execution_count": 11,
     "metadata": {},
     "output_type": "execute_result"
    },
    {
     "data": {
      "text/plain": [
       "<tf.Tensor: id=110, shape=(2, 2), dtype=float32, numpy=\n",
       "array([[5., 6.],\n",
       "       [8., 9.]], dtype=float32)>"
      ]
     },
     "execution_count": 11,
     "metadata": {},
     "output_type": "execute_result"
    },
    {
     "data": {
      "text/plain": [
       "<tf.Tensor: id=114, shape=(3,), dtype=float32, numpy=array([1., 2., 3.], dtype=float32)>"
      ]
     },
     "execution_count": 11,
     "metadata": {},
     "output_type": "execute_result"
    },
    {
     "data": {
      "text/plain": [
       "<tf.Tensor: id=118, shape=(2,), dtype=float32, numpy=array([1., 4.], dtype=float32)>"
      ]
     },
     "execution_count": 11,
     "metadata": {},
     "output_type": "execute_result"
    },
    {
     "data": {
      "text/plain": [
       "<tf.Tensor: id=122, shape=(3,), dtype=float32, numpy=array([3., 2., 1.], dtype=float32)>"
      ]
     },
     "execution_count": 11,
     "metadata": {},
     "output_type": "execute_result"
    },
    {
     "data": {
      "text/plain": [
       "<tf.Tensor: id=125, shape=(2, 2), dtype=float32, numpy=\n",
       "array([[5., 6.],\n",
       "       [8., 9.]], dtype=float32)>"
      ]
     },
     "execution_count": 11,
     "metadata": {},
     "output_type": "execute_result"
    },
    {
     "data": {
      "text/plain": [
       "array([2., 4., 6., 8.], dtype=float32)"
      ]
     },
     "execution_count": 11,
     "metadata": {},
     "output_type": "execute_result"
    },
    {
     "data": {
      "text/plain": [
       "<tf.Tensor: id=131, shape=(4,), dtype=float32, numpy=array([2., 4., 6., 8.], dtype=float32)>"
      ]
     },
     "execution_count": 11,
     "metadata": {},
     "output_type": "execute_result"
    }
   ],
   "source": [
    "# Slicing:\n",
    "# --------\n",
    "\n",
    "tensor2d = tf.convert_to_tensor(matrix, dtype=tf.float32)\n",
    "tensor2d\n",
    "\n",
    "# Pythonic '[]'\n",
    "# -------------\n",
    "\n",
    "# Get a single element: tensor[idx1, idx2, ..., idxN]\n",
    "# e.g. get element '3'\n",
    "tensor2d[0, 2]\n",
    "tensor2d[0, -1]\n",
    "tensor2d[-3, -1]\n",
    "\n",
    "# Get a slice: tensor[startidx1:endidx1:step1,..., startidxN:endidxN:stepN] (endidx excluded)！！！不包含最后一位\n",
    "#          |5 6| \n",
    "# e.g. get |8 9| sub-tensor\n",
    "tensor2d[1:3:1, 1:3:1]\n",
    "tensor2d[1:3, 1:3]\n",
    "tensor2d[1:, 1:]\n",
    "\n",
    "# Missing indices are considered complete slices\n",
    "# e.g. get first row\n",
    "tensor2d[0, :]\n",
    "\n",
    "# Negative indices are accepted\n",
    "tensor2d[0:-1, 0]\n",
    "\n",
    "# e.g. get first row reversed！！！通过控制step 得到反顺序\n",
    "tensor2d[0, ::-1]\n",
    "# -------------\n",
    "\n",
    "# API\n",
    "# ---\n",
    "\n",
    "# tf.slice(input_, begin, size)\n",
    "\n",
    "#          |5 6| \n",
    "# e.g. get |8 9| sub-tensor 确定好初始位置 得到一个subtensor\n",
    "tf.slice(tensor2d, [1, 1], [2, 2])\n",
    "\n",
    "# indexing with condition 用numpy\n",
    "array2d = np.array(matrix, dtype=np.float32)\n",
    "array2d[np.where(array2d % 2 == 0)]\n",
    "\n",
    "# tensor2d[tf.where(array2d % 2 == 0)] does not work!\n",
    "# use tf.gather_nd(params, indices) and tf.where(condition) to find indices\n",
    "indices = tf.where(tensor2d % 2 == 0)\n",
    "tf.gather_nd(tensor2d, indices)\n",
    "\n",
    "# ---"
   ]
  },
  {
   "cell_type": "code",
   "execution_count": 12,
   "metadata": {},
   "outputs": [
    {
     "ename": "ModuleNotFoundError",
     "evalue": "No module named 'PIL'",
     "output_type": "error",
     "traceback": [
      "\u001b[0;31m---------------------------------------------------------------------------\u001b[0m",
      "\u001b[0;31mModuleNotFoundError\u001b[0m                       Traceback (most recent call last)",
      "\u001b[0;32m<ipython-input-12-3807238b7630>\u001b[0m in \u001b[0;36m<module>\u001b[0;34m\u001b[0m\n\u001b[1;32m      2\u001b[0m \u001b[0;31m# -------------------------\u001b[0m\u001b[0;34m\u001b[0m\u001b[0;34m\u001b[0m\u001b[0;34m\u001b[0m\u001b[0m\n\u001b[1;32m      3\u001b[0m \u001b[0;34m\u001b[0m\u001b[0m\n\u001b[0;32m----> 4\u001b[0;31m \u001b[0;32mfrom\u001b[0m \u001b[0mPIL\u001b[0m \u001b[0;32mimport\u001b[0m \u001b[0mImage\u001b[0m\u001b[0;34m\u001b[0m\u001b[0;34m\u001b[0m\u001b[0m\n\u001b[0m\u001b[1;32m      5\u001b[0m \u001b[0;34m\u001b[0m\u001b[0m\n\u001b[1;32m      6\u001b[0m \u001b[0mimg\u001b[0m \u001b[0;34m=\u001b[0m \u001b[0mImage\u001b[0m\u001b[0;34m.\u001b[0m\u001b[0mopen\u001b[0m\u001b[0;34m(\u001b[0m\u001b[0;34m'airplane.jpg'\u001b[0m\u001b[0;34m)\u001b[0m\u001b[0;34m\u001b[0m\u001b[0;34m\u001b[0m\u001b[0m\n",
      "\u001b[0;31mModuleNotFoundError\u001b[0m: No module named 'PIL'"
     ]
    }
   ],
   "source": [
    "# Let's play with an image! PIL是python image lab \n",
    "# -------------------------\n",
    "\n",
    "from PIL import Image\n",
    "\n",
    "img = Image.open('airplane.jpg')\n",
    "img"
   ]
  },
  {
   "cell_type": "code",
   "execution_count": null,
   "metadata": {},
   "outputs": [],
   "source": [
    "# 👍👍👍Convert image to tensor\n",
    "rgb_tensor = tf.convert_to_tensor(np.array(img))\n",
    "# rgb_tensor\n",
    "\n",
    "gs_tensor = tf.convert_to_tensor(np.array(img.convert('L')))\n",
    "# gs_tensor\n",
    "\n",
    "# Change the color of the airplane!\n",
    "# tf.where again, but tf.where(condition, x, y)\n",
    "new_t = tf.where(tf.expand_dims(gs_tensor, -1) > 235, [255, 178, 102], rgb_tensor)\n",
    "new_img = Image.fromarray(new_t.numpy().astype(np.uint8))\n",
    "new_img\n"
   ]
  },
  {
   "cell_type": "code",
   "execution_count": null,
   "metadata": {
    "scrolled": false
   },
   "outputs": [],
   "source": [
    "# Splitting:\n",
    "# ----------\n",
    "\n",
    "rgb_tensor.shape\n",
    "\n",
    "# tf.split(value, num_or_size_splits, axis)\n",
    "# vertical\n",
    "output = tf.split(rgb_tensor, 3, axis=0)\n",
    "output[0].shape\n",
    "output[1].shape\n",
    "output[2].shape\n",
    "\n",
    "# or\n",
    "top, bottom = tf.split(rgb_tensor, [500, -1], axis=0)\n",
    "top.shape\n",
    "bottom.shape\n",
    "\n",
    "# horizontal\n",
    "top_left, top_right = tf.split(top, [900, -1], axis=1)\n",
    "bottom_left, bottom_right = tf.split(bottom, [900, -1], axis=1)\n",
    "\n",
    "Image.fromarray(top_left.numpy())\n",
    "Image.fromarray(top_right.numpy())\n",
    "Image.fromarray(bottom_left.numpy())\n",
    "Image.fromarray(bottom_right.numpy())\n",
    "\n",
    "# ----------\n"
   ]
  },
  {
   "cell_type": "code",
   "execution_count": null,
   "metadata": {},
   "outputs": [],
   "source": [
    "# Stacking:\n",
    "# ---------\n",
    "\n",
    "# tf.concat(values, axis)\n",
    "\n",
    "# horizontally\n",
    "top = tf.concat([top_left, top_right], axis=1)\n",
    "bottom = tf.concat([bottom_left, bottom_right], axis=1)\n",
    "\n",
    "# vertically\n",
    "restored = tf.concat([top, bottom], axis=0)\n",
    "\n",
    "Image.fromarray(restored.numpy())\n",
    "\n",
    "# ---------"
   ]
  }
 ],
 "metadata": {
  "kernelspec": {
   "display_name": "Python 3",
   "language": "python",
   "name": "python3"
  },
  "language_info": {
   "codemirror_mode": {
    "name": "ipython",
    "version": 3
   },
   "file_extension": ".py",
   "mimetype": "text/x-python",
   "name": "python",
   "nbconvert_exporter": "python",
   "pygments_lexer": "ipython3",
   "version": "3.7.4"
  }
 },
 "nbformat": 4,
 "nbformat_minor": 2
}
